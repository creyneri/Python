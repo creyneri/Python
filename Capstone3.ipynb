{
  "nbformat": 4,
  "nbformat_minor": 0,
  "metadata": {
    "colab": {
      "name": "Capstone3.ipynb",
      "provenance": [],
      "collapsed_sections": []
    },
    "kernelspec": {
      "name": "python3",
      "display_name": "Python 3"
    },
    "language_info": {
      "name": "python"
    }
  },
  "cells": [
    {
      "cell_type": "code",
      "metadata": {
        "id": "DXmHaAY7X68n"
      },
      "source": [
        "# import libraries\n",
        "from scipy import stats\n",
        "import pandas as pd\n",
        "import numpy as np\n",
        "import math\n",
        "import matplotlib.pyplot as plt\n",
        "import seaborn as sns\n",
        "sns.set()"
      ],
      "execution_count": null,
      "outputs": []
    },
    {
      "cell_type": "markdown",
      "metadata": {
        "id": "zQhkrmyLQ9eo"
      },
      "source": [
        "The datasets can be found at https://www.kaggle.com/cdc/national-health-and-nutrition-examination-survey?select=demographic.csv.\n",
        "\n",
        "They are from the 2013-2014 National Health and Nutrition Examination Survey (NHANES) from the Centers for Disease Control and Prevention (CDC)."
      ]
    },
    {
      "cell_type": "code",
      "metadata": {
        "colab": {
          "base_uri": "https://localhost:8080/"
        },
        "id": "xHvHDwJEO7gn",
        "outputId": "702852d7-5995-4a9e-b47b-9630d951c839"
      },
      "source": [
        "from google.colab import drive\n",
        "drive.mount('/content/gdrive')"
      ],
      "execution_count": null,
      "outputs": [
        {
          "output_type": "stream",
          "text": [
            "Mounted at /content/gdrive\n"
          ],
          "name": "stdout"
        }
      ]
    },
    {
      "cell_type": "code",
      "metadata": {
        "id": "t1gN0G-ysEVs"
      },
      "source": [
        "# read csv files\n",
        "demographic_df = pd.read_csv('/content/gdrive/My Drive/Colab Datasets/demographic.csv')\n",
        "questionnaire_df = pd.read_csv('/content/gdrive/My Drive/Colab Datasets/questionnaire.csv')"
      ],
      "execution_count": null,
      "outputs": []
    },
    {
      "cell_type": "code",
      "metadata": {
        "id": "m30nSeTASCM_"
      },
      "source": [
        "# merge dataframes\n",
        "merged_df = questionnaire_df.merge(demographic_df, how='left', on='SEQN').dropna(axis=0, subset=['RIAGENDR', 'SMD100NI', 'SMD650'])"
      ],
      "execution_count": null,
      "outputs": []
    },
    {
      "cell_type": "code",
      "metadata": {
        "colab": {
          "base_uri": "https://localhost:8080/"
        },
        "id": "qH-nnoDJV-_E",
        "outputId": "aee512ed-1806-43b0-c1e8-7f2a96f99743"
      },
      "source": [
        "# info about dataframe\n",
        "merged_df.info()"
      ],
      "execution_count": null,
      "outputs": [
        {
          "output_type": "stream",
          "text": [
            "<class 'pandas.core.frame.DataFrame'>\n",
            "Int64Index: 818 entries, 43 to 10161\n",
            "Columns: 999 entries, SEQN to INDFMPIR\n",
            "dtypes: float64(972), int64(25), object(2)\n",
            "memory usage: 6.2+ MB\n"
          ],
          "name": "stdout"
        }
      ]
    },
    {
      "cell_type": "code",
      "metadata": {
        "colab": {
          "base_uri": "https://localhost:8080/"
        },
        "id": "SYVo-rnW7ZZ_",
        "outputId": "d8119a72-7dd2-4593-ba67-22f7b1b9e57a"
      },
      "source": [
        "# column names\n",
        "merged_df.columns"
      ],
      "execution_count": null,
      "outputs": [
        {
          "output_type": "execute_result",
          "data": {
            "text/plain": [
              "Index(['SEQN', 'ACD011A', 'ACD011B', 'ACD011C', 'ACD040', 'ACD110', 'ALQ101',\n",
              "       'ALQ110', 'ALQ120Q', 'ALQ120U',\n",
              "       ...\n",
              "       'DMDHREDU', 'DMDHRMAR', 'DMDHSEDU', 'WTINT2YR', 'WTMEC2YR', 'SDMVPSU',\n",
              "       'SDMVSTRA', 'INDHHIN2', 'INDFMIN2', 'INDFMPIR'],\n",
              "      dtype='object', length=999)"
            ]
          },
          "metadata": {
            "tags": []
          },
          "execution_count": 62
        }
      ]
    },
    {
      "cell_type": "code",
      "metadata": {
        "colab": {
          "base_uri": "https://localhost:8080/",
          "height": 252
        },
        "id": "fUpOaoyCZe0p",
        "outputId": "a56673dd-0b8f-4c93-f415-b1fcbc067e36"
      },
      "source": [
        "# first 5 rows\n",
        "merged_df.head()"
      ],
      "execution_count": null,
      "outputs": [
        {
          "output_type": "execute_result",
          "data": {
            "text/html": [
              "<div>\n",
              "<style scoped>\n",
              "    .dataframe tbody tr th:only-of-type {\n",
              "        vertical-align: middle;\n",
              "    }\n",
              "\n",
              "    .dataframe tbody tr th {\n",
              "        vertical-align: top;\n",
              "    }\n",
              "\n",
              "    .dataframe thead th {\n",
              "        text-align: right;\n",
              "    }\n",
              "</style>\n",
              "<table border=\"1\" class=\"dataframe\">\n",
              "  <thead>\n",
              "    <tr style=\"text-align: right;\">\n",
              "      <th></th>\n",
              "      <th>SEQN</th>\n",
              "      <th>ACD011A</th>\n",
              "      <th>ACD011B</th>\n",
              "      <th>ACD011C</th>\n",
              "      <th>ACD040</th>\n",
              "      <th>ACD110</th>\n",
              "      <th>ALQ101</th>\n",
              "      <th>ALQ110</th>\n",
              "      <th>ALQ120Q</th>\n",
              "      <th>ALQ120U</th>\n",
              "      <th>ALQ130</th>\n",
              "      <th>ALQ141Q</th>\n",
              "      <th>ALQ141U</th>\n",
              "      <th>ALQ151</th>\n",
              "      <th>ALQ160</th>\n",
              "      <th>BPQ020</th>\n",
              "      <th>BPQ030</th>\n",
              "      <th>BPD035</th>\n",
              "      <th>BPQ040A</th>\n",
              "      <th>BPQ050A</th>\n",
              "      <th>BPQ056</th>\n",
              "      <th>BPD058</th>\n",
              "      <th>BPQ059</th>\n",
              "      <th>BPQ080</th>\n",
              "      <th>BPQ060</th>\n",
              "      <th>BPQ070</th>\n",
              "      <th>BPQ090D</th>\n",
              "      <th>BPQ100D</th>\n",
              "      <th>CBD070</th>\n",
              "      <th>CBD090</th>\n",
              "      <th>CBD110</th>\n",
              "      <th>CBD120</th>\n",
              "      <th>CBD130</th>\n",
              "      <th>HSD010</th>\n",
              "      <th>HSQ500</th>\n",
              "      <th>HSQ510</th>\n",
              "      <th>HSQ520</th>\n",
              "      <th>HSQ571</th>\n",
              "      <th>HSQ580</th>\n",
              "      <th>HSQ590</th>\n",
              "      <th>...</th>\n",
              "      <th>RIDRETH3</th>\n",
              "      <th>RIDEXMON</th>\n",
              "      <th>RIDEXAGM</th>\n",
              "      <th>DMQMILIZ</th>\n",
              "      <th>DMQADFC</th>\n",
              "      <th>DMDBORN4</th>\n",
              "      <th>DMDCITZN</th>\n",
              "      <th>DMDYRSUS</th>\n",
              "      <th>DMDEDUC3</th>\n",
              "      <th>DMDEDUC2</th>\n",
              "      <th>DMDMARTL</th>\n",
              "      <th>RIDEXPRG</th>\n",
              "      <th>SIALANG</th>\n",
              "      <th>SIAPROXY</th>\n",
              "      <th>SIAINTRP</th>\n",
              "      <th>FIALANG</th>\n",
              "      <th>FIAPROXY</th>\n",
              "      <th>FIAINTRP</th>\n",
              "      <th>MIALANG</th>\n",
              "      <th>MIAPROXY</th>\n",
              "      <th>MIAINTRP</th>\n",
              "      <th>AIALANGA</th>\n",
              "      <th>DMDHHSIZ</th>\n",
              "      <th>DMDFMSIZ</th>\n",
              "      <th>DMDHHSZA</th>\n",
              "      <th>DMDHHSZB</th>\n",
              "      <th>DMDHHSZE</th>\n",
              "      <th>DMDHRGND</th>\n",
              "      <th>DMDHRAGE</th>\n",
              "      <th>DMDHRBR4</th>\n",
              "      <th>DMDHREDU</th>\n",
              "      <th>DMDHRMAR</th>\n",
              "      <th>DMDHSEDU</th>\n",
              "      <th>WTINT2YR</th>\n",
              "      <th>WTMEC2YR</th>\n",
              "      <th>SDMVPSU</th>\n",
              "      <th>SDMVSTRA</th>\n",
              "      <th>INDHHIN2</th>\n",
              "      <th>INDFMIN2</th>\n",
              "      <th>INDFMPIR</th>\n",
              "    </tr>\n",
              "  </thead>\n",
              "  <tbody>\n",
              "    <tr>\n",
              "      <th>43</th>\n",
              "      <td>73600</td>\n",
              "      <td>1.0</td>\n",
              "      <td>NaN</td>\n",
              "      <td>NaN</td>\n",
              "      <td>NaN</td>\n",
              "      <td>NaN</td>\n",
              "      <td>1.0</td>\n",
              "      <td>NaN</td>\n",
              "      <td>2.0</td>\n",
              "      <td>1.0</td>\n",
              "      <td>5.0</td>\n",
              "      <td>2.0</td>\n",
              "      <td>1.0</td>\n",
              "      <td>2.0</td>\n",
              "      <td>0.0</td>\n",
              "      <td>1.0</td>\n",
              "      <td>1.0</td>\n",
              "      <td>15.0</td>\n",
              "      <td>1.0</td>\n",
              "      <td>2.0</td>\n",
              "      <td>2.0</td>\n",
              "      <td>NaN</td>\n",
              "      <td>1.0</td>\n",
              "      <td>2.0</td>\n",
              "      <td>2.0</td>\n",
              "      <td>NaN</td>\n",
              "      <td>NaN</td>\n",
              "      <td>NaN</td>\n",
              "      <td>642.0</td>\n",
              "      <td>0.0</td>\n",
              "      <td>85.0</td>\n",
              "      <td>128.0</td>\n",
              "      <td>128.0</td>\n",
              "      <td>3.0</td>\n",
              "      <td>2.0</td>\n",
              "      <td>2.0</td>\n",
              "      <td>2.0</td>\n",
              "      <td>2.0</td>\n",
              "      <td>NaN</td>\n",
              "      <td>1.0</td>\n",
              "      <td>...</td>\n",
              "      <td>4</td>\n",
              "      <td>2.0</td>\n",
              "      <td>NaN</td>\n",
              "      <td>2.0</td>\n",
              "      <td>NaN</td>\n",
              "      <td>1</td>\n",
              "      <td>1.0</td>\n",
              "      <td>NaN</td>\n",
              "      <td>NaN</td>\n",
              "      <td>3.0</td>\n",
              "      <td>3.0</td>\n",
              "      <td>NaN</td>\n",
              "      <td>1</td>\n",
              "      <td>2.0</td>\n",
              "      <td>2</td>\n",
              "      <td>1.0</td>\n",
              "      <td>2.0</td>\n",
              "      <td>2.0</td>\n",
              "      <td>1.0</td>\n",
              "      <td>2.0</td>\n",
              "      <td>2.0</td>\n",
              "      <td>1.0</td>\n",
              "      <td>6</td>\n",
              "      <td>6</td>\n",
              "      <td>0</td>\n",
              "      <td>3</td>\n",
              "      <td>0</td>\n",
              "      <td>1</td>\n",
              "      <td>37</td>\n",
              "      <td>1.0</td>\n",
              "      <td>3.0</td>\n",
              "      <td>3.0</td>\n",
              "      <td>NaN</td>\n",
              "      <td>19725.408052</td>\n",
              "      <td>20786.063147</td>\n",
              "      <td>1</td>\n",
              "      <td>114</td>\n",
              "      <td>5.0</td>\n",
              "      <td>5.0</td>\n",
              "      <td>0.63</td>\n",
              "    </tr>\n",
              "    <tr>\n",
              "      <th>58</th>\n",
              "      <td>73615</td>\n",
              "      <td>NaN</td>\n",
              "      <td>NaN</td>\n",
              "      <td>NaN</td>\n",
              "      <td>2.0</td>\n",
              "      <td>NaN</td>\n",
              "      <td>1.0</td>\n",
              "      <td>NaN</td>\n",
              "      <td>1.0</td>\n",
              "      <td>2.0</td>\n",
              "      <td>2.0</td>\n",
              "      <td>0.0</td>\n",
              "      <td>NaN</td>\n",
              "      <td>2.0</td>\n",
              "      <td>NaN</td>\n",
              "      <td>1.0</td>\n",
              "      <td>1.0</td>\n",
              "      <td>65.0</td>\n",
              "      <td>1.0</td>\n",
              "      <td>1.0</td>\n",
              "      <td>2.0</td>\n",
              "      <td>NaN</td>\n",
              "      <td>2.0</td>\n",
              "      <td>1.0</td>\n",
              "      <td>NaN</td>\n",
              "      <td>1.0</td>\n",
              "      <td>1.0</td>\n",
              "      <td>1.0</td>\n",
              "      <td>0.0</td>\n",
              "      <td>0.0</td>\n",
              "      <td>0.0</td>\n",
              "      <td>0.0</td>\n",
              "      <td>0.0</td>\n",
              "      <td>4.0</td>\n",
              "      <td>1.0</td>\n",
              "      <td>2.0</td>\n",
              "      <td>2.0</td>\n",
              "      <td>2.0</td>\n",
              "      <td>NaN</td>\n",
              "      <td>1.0</td>\n",
              "      <td>...</td>\n",
              "      <td>2</td>\n",
              "      <td>2.0</td>\n",
              "      <td>NaN</td>\n",
              "      <td>2.0</td>\n",
              "      <td>NaN</td>\n",
              "      <td>2</td>\n",
              "      <td>1.0</td>\n",
              "      <td>8.0</td>\n",
              "      <td>NaN</td>\n",
              "      <td>1.0</td>\n",
              "      <td>2.0</td>\n",
              "      <td>NaN</td>\n",
              "      <td>2</td>\n",
              "      <td>2.0</td>\n",
              "      <td>2</td>\n",
              "      <td>1.0</td>\n",
              "      <td>2.0</td>\n",
              "      <td>2.0</td>\n",
              "      <td>2.0</td>\n",
              "      <td>2.0</td>\n",
              "      <td>2.0</td>\n",
              "      <td>2.0</td>\n",
              "      <td>1</td>\n",
              "      <td>1</td>\n",
              "      <td>0</td>\n",
              "      <td>0</td>\n",
              "      <td>1</td>\n",
              "      <td>2</td>\n",
              "      <td>65</td>\n",
              "      <td>2.0</td>\n",
              "      <td>1.0</td>\n",
              "      <td>2.0</td>\n",
              "      <td>NaN</td>\n",
              "      <td>10950.248806</td>\n",
              "      <td>10872.080055</td>\n",
              "      <td>1</td>\n",
              "      <td>104</td>\n",
              "      <td>3.0</td>\n",
              "      <td>3.0</td>\n",
              "      <td>1.22</td>\n",
              "    </tr>\n",
              "    <tr>\n",
              "      <th>74</th>\n",
              "      <td>73631</td>\n",
              "      <td>1.0</td>\n",
              "      <td>NaN</td>\n",
              "      <td>NaN</td>\n",
              "      <td>NaN</td>\n",
              "      <td>NaN</td>\n",
              "      <td>1.0</td>\n",
              "      <td>NaN</td>\n",
              "      <td>2.0</td>\n",
              "      <td>1.0</td>\n",
              "      <td>2.0</td>\n",
              "      <td>0.0</td>\n",
              "      <td>NaN</td>\n",
              "      <td>2.0</td>\n",
              "      <td>1.0</td>\n",
              "      <td>1.0</td>\n",
              "      <td>1.0</td>\n",
              "      <td>54.0</td>\n",
              "      <td>1.0</td>\n",
              "      <td>2.0</td>\n",
              "      <td>2.0</td>\n",
              "      <td>NaN</td>\n",
              "      <td>1.0</td>\n",
              "      <td>2.0</td>\n",
              "      <td>1.0</td>\n",
              "      <td>2.0</td>\n",
              "      <td>2.0</td>\n",
              "      <td>NaN</td>\n",
              "      <td>135.0</td>\n",
              "      <td>0.0</td>\n",
              "      <td>0.0</td>\n",
              "      <td>0.0</td>\n",
              "      <td>0.0</td>\n",
              "      <td>3.0</td>\n",
              "      <td>2.0</td>\n",
              "      <td>2.0</td>\n",
              "      <td>2.0</td>\n",
              "      <td>2.0</td>\n",
              "      <td>NaN</td>\n",
              "      <td>2.0</td>\n",
              "      <td>...</td>\n",
              "      <td>4</td>\n",
              "      <td>1.0</td>\n",
              "      <td>NaN</td>\n",
              "      <td>2.0</td>\n",
              "      <td>NaN</td>\n",
              "      <td>1</td>\n",
              "      <td>1.0</td>\n",
              "      <td>NaN</td>\n",
              "      <td>NaN</td>\n",
              "      <td>2.0</td>\n",
              "      <td>3.0</td>\n",
              "      <td>NaN</td>\n",
              "      <td>1</td>\n",
              "      <td>2.0</td>\n",
              "      <td>2</td>\n",
              "      <td>1.0</td>\n",
              "      <td>2.0</td>\n",
              "      <td>2.0</td>\n",
              "      <td>1.0</td>\n",
              "      <td>2.0</td>\n",
              "      <td>2.0</td>\n",
              "      <td>1.0</td>\n",
              "      <td>1</td>\n",
              "      <td>1</td>\n",
              "      <td>0</td>\n",
              "      <td>0</td>\n",
              "      <td>0</td>\n",
              "      <td>2</td>\n",
              "      <td>56</td>\n",
              "      <td>1.0</td>\n",
              "      <td>2.0</td>\n",
              "      <td>3.0</td>\n",
              "      <td>NaN</td>\n",
              "      <td>26678.260372</td>\n",
              "      <td>29752.936842</td>\n",
              "      <td>1</td>\n",
              "      <td>111</td>\n",
              "      <td>2.0</td>\n",
              "      <td>2.0</td>\n",
              "      <td>0.71</td>\n",
              "    </tr>\n",
              "    <tr>\n",
              "      <th>77</th>\n",
              "      <td>73634</td>\n",
              "      <td>1.0</td>\n",
              "      <td>NaN</td>\n",
              "      <td>NaN</td>\n",
              "      <td>NaN</td>\n",
              "      <td>NaN</td>\n",
              "      <td>NaN</td>\n",
              "      <td>NaN</td>\n",
              "      <td>NaN</td>\n",
              "      <td>NaN</td>\n",
              "      <td>NaN</td>\n",
              "      <td>NaN</td>\n",
              "      <td>NaN</td>\n",
              "      <td>NaN</td>\n",
              "      <td>NaN</td>\n",
              "      <td>1.0</td>\n",
              "      <td>1.0</td>\n",
              "      <td>60.0</td>\n",
              "      <td>1.0</td>\n",
              "      <td>1.0</td>\n",
              "      <td>1.0</td>\n",
              "      <td>52.0</td>\n",
              "      <td>2.0</td>\n",
              "      <td>2.0</td>\n",
              "      <td>1.0</td>\n",
              "      <td>1.0</td>\n",
              "      <td>2.0</td>\n",
              "      <td>NaN</td>\n",
              "      <td>450.0</td>\n",
              "      <td>0.0</td>\n",
              "      <td>107.0</td>\n",
              "      <td>857.0</td>\n",
              "      <td>128.0</td>\n",
              "      <td>NaN</td>\n",
              "      <td>NaN</td>\n",
              "      <td>NaN</td>\n",
              "      <td>NaN</td>\n",
              "      <td>NaN</td>\n",
              "      <td>NaN</td>\n",
              "      <td>NaN</td>\n",
              "      <td>...</td>\n",
              "      <td>4</td>\n",
              "      <td>NaN</td>\n",
              "      <td>NaN</td>\n",
              "      <td>2.0</td>\n",
              "      <td>NaN</td>\n",
              "      <td>1</td>\n",
              "      <td>1.0</td>\n",
              "      <td>NaN</td>\n",
              "      <td>NaN</td>\n",
              "      <td>3.0</td>\n",
              "      <td>2.0</td>\n",
              "      <td>NaN</td>\n",
              "      <td>1</td>\n",
              "      <td>1.0</td>\n",
              "      <td>2</td>\n",
              "      <td>1.0</td>\n",
              "      <td>2.0</td>\n",
              "      <td>2.0</td>\n",
              "      <td>NaN</td>\n",
              "      <td>NaN</td>\n",
              "      <td>NaN</td>\n",
              "      <td>NaN</td>\n",
              "      <td>3</td>\n",
              "      <td>3</td>\n",
              "      <td>0</td>\n",
              "      <td>0</td>\n",
              "      <td>1</td>\n",
              "      <td>1</td>\n",
              "      <td>65</td>\n",
              "      <td>1.0</td>\n",
              "      <td>3.0</td>\n",
              "      <td>2.0</td>\n",
              "      <td>NaN</td>\n",
              "      <td>14047.623960</td>\n",
              "      <td>0.000000</td>\n",
              "      <td>2</td>\n",
              "      <td>113</td>\n",
              "      <td>6.0</td>\n",
              "      <td>6.0</td>\n",
              "      <td>1.52</td>\n",
              "    </tr>\n",
              "    <tr>\n",
              "      <th>85</th>\n",
              "      <td>73642</td>\n",
              "      <td>1.0</td>\n",
              "      <td>NaN</td>\n",
              "      <td>NaN</td>\n",
              "      <td>NaN</td>\n",
              "      <td>NaN</td>\n",
              "      <td>2.0</td>\n",
              "      <td>1.0</td>\n",
              "      <td>0.0</td>\n",
              "      <td>NaN</td>\n",
              "      <td>NaN</td>\n",
              "      <td>NaN</td>\n",
              "      <td>NaN</td>\n",
              "      <td>2.0</td>\n",
              "      <td>NaN</td>\n",
              "      <td>2.0</td>\n",
              "      <td>NaN</td>\n",
              "      <td>NaN</td>\n",
              "      <td>NaN</td>\n",
              "      <td>NaN</td>\n",
              "      <td>1.0</td>\n",
              "      <td>104.0</td>\n",
              "      <td>2.0</td>\n",
              "      <td>1.0</td>\n",
              "      <td>NaN</td>\n",
              "      <td>1.0</td>\n",
              "      <td>1.0</td>\n",
              "      <td>2.0</td>\n",
              "      <td>300.0</td>\n",
              "      <td>20.0</td>\n",
              "      <td>0.0</td>\n",
              "      <td>0.0</td>\n",
              "      <td>0.0</td>\n",
              "      <td>3.0</td>\n",
              "      <td>1.0</td>\n",
              "      <td>2.0</td>\n",
              "      <td>2.0</td>\n",
              "      <td>2.0</td>\n",
              "      <td>NaN</td>\n",
              "      <td>2.0</td>\n",
              "      <td>...</td>\n",
              "      <td>3</td>\n",
              "      <td>1.0</td>\n",
              "      <td>NaN</td>\n",
              "      <td>2.0</td>\n",
              "      <td>NaN</td>\n",
              "      <td>1</td>\n",
              "      <td>1.0</td>\n",
              "      <td>NaN</td>\n",
              "      <td>NaN</td>\n",
              "      <td>3.0</td>\n",
              "      <td>1.0</td>\n",
              "      <td>NaN</td>\n",
              "      <td>1</td>\n",
              "      <td>2.0</td>\n",
              "      <td>2</td>\n",
              "      <td>1.0</td>\n",
              "      <td>2.0</td>\n",
              "      <td>2.0</td>\n",
              "      <td>1.0</td>\n",
              "      <td>2.0</td>\n",
              "      <td>2.0</td>\n",
              "      <td>1.0</td>\n",
              "      <td>3</td>\n",
              "      <td>3</td>\n",
              "      <td>0</td>\n",
              "      <td>0</td>\n",
              "      <td>0</td>\n",
              "      <td>1</td>\n",
              "      <td>55</td>\n",
              "      <td>1.0</td>\n",
              "      <td>1.0</td>\n",
              "      <td>1.0</td>\n",
              "      <td>3.0</td>\n",
              "      <td>33644.734694</td>\n",
              "      <td>34652.391419</td>\n",
              "      <td>2</td>\n",
              "      <td>115</td>\n",
              "      <td>8.0</td>\n",
              "      <td>8.0</td>\n",
              "      <td>2.27</td>\n",
              "    </tr>\n",
              "  </tbody>\n",
              "</table>\n",
              "<p>5 rows × 999 columns</p>\n",
              "</div>"
            ],
            "text/plain": [
              "     SEQN  ACD011A  ACD011B  ACD011C  ...  SDMVSTRA  INDHHIN2  INDFMIN2  INDFMPIR\n",
              "43  73600      1.0      NaN      NaN  ...       114       5.0       5.0      0.63\n",
              "58  73615      NaN      NaN      NaN  ...       104       3.0       3.0      1.22\n",
              "74  73631      1.0      NaN      NaN  ...       111       2.0       2.0      0.71\n",
              "77  73634      1.0      NaN      NaN  ...       113       6.0       6.0      1.52\n",
              "85  73642      1.0      NaN      NaN  ...       115       8.0       8.0      2.27\n",
              "\n",
              "[5 rows x 999 columns]"
            ]
          },
          "metadata": {
            "tags": []
          },
          "execution_count": 63
        }
      ]
    },
    {
      "cell_type": "code",
      "metadata": {
        "colab": {
          "base_uri": "https://localhost:8080/"
        },
        "id": "kOR1FXfyZhBN",
        "outputId": "92672705-1fd6-403a-d3ab-a55327289dc0"
      },
      "source": [
        "# count of men (1) and women (2)\n",
        "men = merged_df.iloc[(merged_df['RIAGENDR'] == 1).values].dropna(axis=0, subset=['RIAGENDR', 'SMD100NI', 'SMD650'])\n",
        "men.info()\n",
        "\n",
        "women = merged_df.iloc[(merged_df['RIAGENDR'] == 2).values].dropna(axis=0, subset=['RIAGENDR', 'SMD100NI', 'SMD650'])\n",
        "women.info()"
      ],
      "execution_count": null,
      "outputs": [
        {
          "output_type": "stream",
          "text": [
            "<class 'pandas.core.frame.DataFrame'>\n",
            "Int64Index: 459 entries, 43 to 10146\n",
            "Columns: 999 entries, SEQN to INDFMPIR\n",
            "dtypes: float64(972), int64(25), object(2)\n",
            "memory usage: 3.5+ MB\n",
            "<class 'pandas.core.frame.DataFrame'>\n",
            "Int64Index: 359 entries, 58 to 10161\n",
            "Columns: 999 entries, SEQN to INDFMPIR\n",
            "dtypes: float64(972), int64(25), object(2)\n",
            "memory usage: 2.7+ MB\n"
          ],
          "name": "stdout"
        }
      ]
    },
    {
      "cell_type": "markdown",
      "metadata": {
        "id": "P-jeetWERfsw"
      },
      "source": [
        "The number of observations for men is 459 and the number of observations for women is 359. They are close enough in number to be able to conduct a two-tail independent samples t-test on them."
      ]
    },
    {
      "cell_type": "code",
      "metadata": {
        "colab": {
          "base_uri": "https://localhost:8080/"
        },
        "id": "rgxG0Np3mOtx",
        "outputId": "8245b2c1-d650-46cd-88dc-640ecfb5c071"
      },
      "source": [
        "# check for nulls\n",
        "men['SMD100NI'].isna().sum()\n",
        "men['RIAGENDR'].isna().sum()\n",
        "men['SMD650'].isna().sum()"
      ],
      "execution_count": null,
      "outputs": [
        {
          "output_type": "execute_result",
          "data": {
            "text/plain": [
              "0"
            ]
          },
          "metadata": {
            "tags": []
          },
          "execution_count": 65
        }
      ]
    },
    {
      "cell_type": "code",
      "metadata": {
        "colab": {
          "base_uri": "https://localhost:8080/"
        },
        "id": "jH50hR18mcS3",
        "outputId": "08aba277-1886-4d40-f6d0-68f935e63915"
      },
      "source": [
        "# check for nulls\n",
        "women['SMD100NI'].isna().sum()\n",
        "women['RIAGENDR'].isna().sum()\n",
        "women['SMD650'].isna().sum()"
      ],
      "execution_count": null,
      "outputs": [
        {
          "output_type": "execute_result",
          "data": {
            "text/plain": [
              "0"
            ]
          },
          "metadata": {
            "tags": []
          },
          "execution_count": 66
        }
      ]
    },
    {
      "cell_type": "code",
      "metadata": {
        "colab": {
          "base_uri": "https://localhost:8080/"
        },
        "id": "9dm9i7YFYs2H",
        "outputId": "a2b5c4e6-0e2e-4019-cad5-98c246846926"
      },
      "source": [
        "# descriptive statistics for men\n",
        "men['SMD100NI'].describe()"
      ],
      "execution_count": null,
      "outputs": [
        {
          "output_type": "execute_result",
          "data": {
            "text/plain": [
              "count    459.000000\n",
              "mean       0.998039\n",
              "std        0.180781\n",
              "min        0.500000\n",
              "25%        0.900000\n",
              "50%        1.000000\n",
              "75%        1.100000\n",
              "max        2.000000\n",
              "Name: SMD100NI, dtype: float64"
            ]
          },
          "metadata": {
            "tags": []
          },
          "execution_count": 67
        }
      ]
    },
    {
      "cell_type": "code",
      "metadata": {
        "colab": {
          "base_uri": "https://localhost:8080/",
          "height": 287
        },
        "id": "7J87nyEB-mnl",
        "outputId": "1ae297f5-20c9-4266-c736-268cc2194438"
      },
      "source": [
        "# histogram for men\n",
        "sns.histplot(men['SMD100NI'], kde='True')\n",
        "sns.set_style(\"white\")"
      ],
      "execution_count": null,
      "outputs": [
        {
          "output_type": "display_data",
          "data": {
            "image/png": "[encoded data removed]",
            "text/plain": [
              "<Figure size 432x288 with 1 Axes>"
            ]
          },
          "metadata": {
            "tags": []
          }
        }
      ]
    },
    {
      "cell_type": "code",
      "metadata": {
        "colab": {
          "base_uri": "https://localhost:8080/"
        },
        "id": "-PWJHxi1kaAa",
        "outputId": "950e5742-f7ef-4901-9131-4c08161d262f"
      },
      "source": [
        "# descriptive statistics for women\n",
        "women['SMD100NI'].describe()"
      ],
      "execution_count": null,
      "outputs": [
        {
          "output_type": "execute_result",
          "data": {
            "text/plain": [
              "count    359.000000\n",
              "mean       1.003621\n",
              "std        0.215368\n",
              "min        0.100000\n",
              "25%        0.900000\n",
              "50%        1.000000\n",
              "75%        1.100000\n",
              "max        2.000000\n",
              "Name: SMD100NI, dtype: float64"
            ]
          },
          "metadata": {
            "tags": []
          },
          "execution_count": 68
        }
      ]
    },
    {
      "cell_type": "code",
      "metadata": {
        "colab": {
          "base_uri": "https://localhost:8080/",
          "height": 285
        },
        "id": "XDIGhhpF_LAY",
        "outputId": "157ab954-1e68-4d71-cd2a-ecb2ce5e1fe7"
      },
      "source": [
        "# histogram for women\n",
        "sns.histplot(women['SMD100NI'], kde='True')\n",
        "sns.set_style(\"white\")"
      ],
      "execution_count": null,
      "outputs": [
        {
          "output_type": "display_data",
          "data": {
            "image/png": "[encoded data removed]",
            "text/plain": [
              "<Figure size 432x288 with 1 Axes>"
            ]
          },
          "metadata": {
            "tags": []
          }
        }
      ]
    },
    {
      "cell_type": "markdown",
      "metadata": {
        "id": "Hik8AKmA__rG"
      },
      "source": [
        "The distributions above show that the mean nicotine content in the cigarettes men and women smoke is about the same at 1 mg.\n",
        "\n",
        "The cigarettes female participants smoked have a slightly higher nicotine content on average.\n",
        "\n",
        "Nicotine content for women has a more normal distribution because there are more observations in the middle of the histogram and fewer observations on both sides.\n",
        "\n",
        "The minimum nicotine content observed for men was higher at 0.5 mg. For women, the minimum observed was 0.1 mg."
      ]
    },
    {
      "cell_type": "code",
      "metadata": {
        "colab": {
          "base_uri": "https://localhost:8080/"
        },
        "id": "Wp1ls4nd9B1S",
        "outputId": "edf9daa3-ccb4-4a06-ccfc-c9a7f992bbff"
      },
      "source": [
        "# t-test for nicotine content between men and women\n",
        "stats.ttest_ind(men['SMD100NI'], women['SMD100NI'], nan_policy='omit')"
      ],
      "execution_count": null,
      "outputs": [
        {
          "output_type": "execute_result",
          "data": {
            "text/plain": [
              "Ttest_indResult(statistic=-0.4027603514257731, pvalue=0.687230024102469)"
            ]
          },
          "metadata": {
            "tags": []
          },
          "execution_count": 69
        }
      ]
    },
    {
      "cell_type": "markdown",
      "metadata": {
        "id": "SQpYdkLuTDgT"
      },
      "source": [
        "The null hypothesis is that there is no significant difference between the nicotine content in the cigarettes smoked by men and the cigarettes smoked by women. The alternative hypothesis is that there is a significant difference.\n",
        "\n",
        "Fail to reject the null hypothesis. There is no significant difference between the populations at the 0.05 level because the p-value is greater at 0.68.\n",
        "\n",
        "There is no significant difference between the nicotine content in the cigarettes smoked by men and the cigarettes smoked by women."
      ]
    },
    {
      "cell_type": "code",
      "metadata": {
        "colab": {
          "base_uri": "https://localhost:8080/",
          "height": 35
        },
        "id": "YCsYjENMi3al",
        "outputId": "d7f003c0-0664-4e59-9e87-c4a06a652ad8"
      },
      "source": [
        "# confindence interval\n",
        "def get_95_ci(array_1, array_2):\n",
        "    sample_1_n = array_1.shape[0]\n",
        "    sample_2_n = array_2.shape[0]\n",
        "    sample_1_mean = array_1.mean()\n",
        "    sample_2_mean = array_2.mean()\n",
        "    sample_1_var = array_1.var()\n",
        "    sample_2_var = array_2.var()\n",
        "    mean_difference = sample_2_mean - sample_1_mean\n",
        "    std_err_difference = math.sqrt((sample_1_var/sample_1_n)+(sample_2_var/sample_2_n))\n",
        "    margin_of_error = 1.96 * std_err_difference\n",
        "    ci_lower = mean_difference - margin_of_error\n",
        "    ci_upper = mean_difference + margin_of_error\n",
        "    return(\"The difference in means at the 95% confidence interval (two-tail) is between \"+str(ci_lower)+\" and \"+str(ci_upper)+\".\")\n",
        "\n",
        "get_95_ci(men['SMD100NI'], women['SMD100NI'])"
      ],
      "execution_count": null,
      "outputs": [
        {
          "output_type": "execute_result",
          "data": {
            "application/vnd.google.colaboratory.intrinsic+json": {
              "type": "string"
            },
            "text/plain": [
              "'The difference in means at the 95% confidence interval (two-tail) is between -0.022164612271531277 and 0.03332852073185139.'"
            ]
          },
          "metadata": {
            "tags": []
          },
          "execution_count": 70
        }
      ]
    },
    {
      "cell_type": "markdown",
      "metadata": {
        "id": "QvCRC_5pTN0v"
      },
      "source": [
        "As the output states, with 95% confidence, the difference in mean nicotine content is between -0.02 and -0.03."
      ]
    },
    {
      "cell_type": "code",
      "metadata": {
        "colab": {
          "base_uri": "https://localhost:8080/",
          "height": 318
        },
        "id": "1zbSclAmk09w",
        "outputId": "8b3d9029-5297-4dad-b299-23a392cf54dc"
      },
      "source": [
        "# boxplots\n",
        "sns.boxplot(y=\"SMD100NI\", x=\"RIAGENDR\", data=merged_df)\n",
        "plt.xlabel('Gender')\n",
        "plt.ylabel('Nicotine Content (mg)')\n",
        "plt.title('Nicotine Content Consumed by Men vs. Women')"
      ],
      "execution_count": null,
      "outputs": [
        {
          "output_type": "execute_result",
          "data": {
            "text/plain": [
              "Text(0.5, 1.0, 'Nicotine Content Consumed by Men vs. Women')"
            ]
          },
          "metadata": {
            "tags": []
          },
          "execution_count": 71
        },
        {
          "output_type": "display_data",
          "data": {
            "image/png": "[encoded data removed]",
            "text/plain": [
              "<Figure size 432x288 with 1 Axes>"
            ]
          },
          "metadata": {
            "tags": []
          }
        }
      ]
    },
    {
      "cell_type": "markdown",
      "metadata": {
        "id": "_oWcobnl7eAl"
      },
      "source": [
        "The boxplots of the distributions of nicotine content in the cigarettes smoked by men vs. women intersect, which supports the results of the t-test.\n",
        "\n",
        "This is further evidence that there is no significant difference between the two populations when it comes to nicotine content."
      ]
    },
    {
      "cell_type": "code",
      "metadata": {
        "colab": {
          "base_uri": "https://localhost:8080/"
        },
        "id": "9S-LrpaWD8sc",
        "outputId": "7cd23289-ad97-41a8-ed05-99d76078a26c"
      },
      "source": [
        "# statistical significance of correlation\n",
        "stats.pearsonr(merged_df['SMD100NI'], merged_df['SMD650'])"
      ],
      "execution_count": null,
      "outputs": [
        {
          "output_type": "execute_result",
          "data": {
            "text/plain": [
              "(0.005857743012613077, 0.867149120553734)"
            ]
          },
          "metadata": {
            "tags": []
          },
          "execution_count": 72
        }
      ]
    },
    {
      "cell_type": "markdown",
      "metadata": {
        "id": "VSzyqPaaVj7H"
      },
      "source": [
        "The null hypothesis is that there is no correlation between nicotine content and number of cigarettes smoked per day. The alternative hypothesis is that there is a correlation.\n",
        "\n",
        "Fail to reject the null that there is no correlation between nicotine content and number of cigarettes smoked per day; r = 0.01, which is essentially zero, meaning there is no correlation.\n",
        "\n",
        "The correlation is not statistically significant at the 0.05 level because the p-value is larger at 0.87.\n",
        "\n",
        "Nicotine content is not related to the number of cigarettes smoked per day or vice versa."
      ]
    },
    {
      "cell_type": "code",
      "metadata": {
        "colab": {
          "base_uri": "https://localhost:8080/",
          "height": 318
        },
        "id": "jDbkW71bFAt6",
        "outputId": "3bf09b72-6615-4bb3-dfc8-887bc9f05c37"
      },
      "source": [
        "# scatterplot of correlation\n",
        "sns.scatterplot(x=\"SMD100NI\", y=\"SMD650\", data=merged_df)\n",
        "sns.set_style(\"white\")\n",
        "plt.xlabel('Nicotine Content (mg)')\n",
        "plt.ylabel('Number of Cigarettes Smoked Per Day')\n",
        "plt.title('Nicotine Content vs. Number of Cigarettes')"
      ],
      "execution_count": null,
      "outputs": [
        {
          "output_type": "execute_result",
          "data": {
            "text/plain": [
              "Text(0.5, 1.0, 'Nicotine Content vs. Number of Cigarettes')"
            ]
          },
          "metadata": {
            "tags": []
          },
          "execution_count": 75
        },
        {
          "output_type": "display_data",
          "data": {
            "image/png": "[encoded data removed]",
            "text/plain": [
              "<Figure size 432x288 with 1 Axes>"
            ]
          },
          "metadata": {
            "tags": []
          }
        }
      ]
    },
    {
      "cell_type": "markdown",
      "metadata": {
        "id": "Bv8xtIP_fA3T"
      },
      "source": [
        "For those in the healthcare field, this is evidence that there is no difference between the nicotine content in the cigarettes that men smoke and the cigarettes that women smoke. They should also note that there is no relationship between nicotine content in cigarettes and the number of cigarettes smoked per day.\n",
        "\n",
        "In other words, gender is not a risk factor for smoking cigarettes with more nicotine, and higher nicotine content is not a risk factor for smoking more cigarettes or vice versa."
      ]
    }
  ]
}